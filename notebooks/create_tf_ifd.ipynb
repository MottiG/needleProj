{
 "cells": [
  {
   "cell_type": "code",
   "execution_count": 79,
   "metadata": {
    "collapsed": false
   },
   "outputs": [],
   "source": [
    "import pandas as pd\n",
    "import os\n",
    "from nltk.corpus import stopwords\n",
    "from sklearn.feature_extraction.text import TfidfVectorizer\n",
    "\n",
    "\n",
    "'''\n",
    "create tf-ifd feature of for a given column of the patent_table_clean dataframe\n",
    "'''\n",
    "stopw = stopwords.words('english')  # TODO remove important words from list\n",
    "project_dir = os.path.abspath(os.path.join( '__file__' , '..', '..'))\n",
    "input_dir = os.path.join(project_dir, 'data', 'processed', 'sample')\n",
    "df = pd.read_pickle(os.path.join(input_dir, 'patent_table_clean.pickle'))\n",
    "\n",
    "class TfIdfer:\n",
    "    \n",
    "    def get_features(df: pd.DataFrame, cols: list, remove_stopwords: bool) -> pd.DataFrame:\n",
    "        features_df = pd.DataFrame(index=df.index.copy(), columns=cols)\n",
    "        for col in cols:\n",
    "            if remove_stopwords:\n",
    "                df[col] = df[col].apply(lambda x: ' '.join([word for word in x.split() if word not in stopw]))\n",
    "                col_tf_idf = TfidfVectorizer().fit_transform(df[col])\n",
    "                features_df[col] = list(col_tf_idf)\n",
    "        \n",
    "        return features_df"
   ]
  },
  {
   "cell_type": "code",
   "execution_count": 80,
   "metadata": {
    "collapsed": false
   },
   "outputs": [],
   "source": [
    "cols = ['title', 'abstract']\n",
    "remove_stopwords = True\n",
    "features = pd.DataFrame(index=df.index.copy(), columns=cols)\n",
    "for col in cols:\n",
    "    if remove_stopwords:\n",
    "        df[col] = df[col].apply(lambda x: ' '.join([word for word in x.split() if x and word.lower() not in stopw]))\n",
    "        col_tf_idf = TfidfVectorizer().fit_transform(df[col])\n",
    "        features[col] = list(col_tf_idf)"
   ]
  },
  {
   "cell_type": "code",
   "execution_count": 81,
   "metadata": {
    "collapsed": false
   },
   "outputs": [
    {
     "data": {
      "text/plain": [
       "scipy.sparse.csr.csr_matrix"
      ]
     },
     "execution_count": 81,
     "metadata": {},
     "output_type": "execute_result"
    }
   ],
   "source": [
    "type(features['title'][0])"
   ]
  },
  {
   "cell_type": "code",
   "execution_count": null,
   "metadata": {
    "collapsed": true
   },
   "outputs": [],
   "source": [
    ""
   ]
  }
 ],
 "metadata": {
  "anaconda-cloud": {},
  "kernelspec": {
   "display_name": "Python [conda root]",
   "language": "python",
   "name": "conda-root-py"
  },
  "language_info": {
   "codemirror_mode": {
    "name": "ipython",
    "version": 3.0
   },
   "file_extension": ".py",
   "mimetype": "text/x-python",
   "name": "python",
   "nbconvert_exporter": "python",
   "pygments_lexer": "ipython3",
   "version": "3.5.2"
  }
 },
 "nbformat": 4,
 "nbformat_minor": 0
}