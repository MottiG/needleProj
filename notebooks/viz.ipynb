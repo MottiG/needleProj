{
 "cells": [
  {
   "cell_type": "code",
   "execution_count": 47,
   "metadata": {
    "collapsed": false
   },
   "outputs": [],
   "source": [
    "import pandas as pd\n",
    "import os\n",
    "from scipy.cluster.hierarchy import dendrogram, fcluster\n",
    "import matplotlib.pyplot as plt\n",
    "import pickle\n",
    "\n",
    "project_dir = os.path.abspath(os.path.join( '__file__' , '..', '..'))\n",
    "dend_dir = os.path.join(project_dir, 'data', 'processed', 'dendograms')\n",
    "model = os.path.join(project_dir, 'models', 'tf_idf_vectorizers.pickle')\n",
    "data = os.path.join(project_dir, 'data', 'processed', 'patent_table_clean_new.pickle')\n",
    "tfidf_mat = os.path.join(project_dir, 'models', 'tf_idf_features_dict.pickle')\n",
    "df = pd.read_pickle(data)\n",
    "kml = pd.read_pickle(os.path.join(dend_dir, 'kmeans_labels.pickle'))\n",
    "with open(os.path.join(dend_dir, 'z_matrix.pickle'), 'rb') as f:\n",
    "    z = pickle.load(f)\n",
    "with open(model, 'rb') as f:\n",
    "    mdl = pickle.load(f)['abstract']\n",
    "with open(tfidf_mat, 'rb') as f:\n",
    "    tfidf_mat = pickle.load(f)['abstract']\n",
    "kml['mat_row'] = range(len(kml.index))"
   ]
  },
  {
   "cell_type": "code",
   "execution_count": 126,
   "metadata": {
    "collapsed": false
   },
   "outputs": [
    {
     "data": {
      "text/html": [
       "<div>\n",
       "<table border=\"1\" class=\"dataframe\">\n",
       "  <thead>\n",
       "    <tr style=\"text-align: right;\">\n",
       "      <th></th>\n",
       "      <th>kmeans_labels</th>\n",
       "      <th>mat_row</th>\n",
       "    </tr>\n",
       "  </thead>\n",
       "  <tbody>\n",
       "    <tr>\n",
       "      <th>3935991</th>\n",
       "      <td>223</td>\n",
       "      <td>0</td>\n",
       "    </tr>\n",
       "    <tr>\n",
       "      <th>3944004</th>\n",
       "      <td>150</td>\n",
       "      <td>1</td>\n",
       "    </tr>\n",
       "    <tr>\n",
       "      <th>3945191</th>\n",
       "      <td>82</td>\n",
       "      <td>2</td>\n",
       "    </tr>\n",
       "    <tr>\n",
       "      <th>3947279</th>\n",
       "      <td>150</td>\n",
       "      <td>3</td>\n",
       "    </tr>\n",
       "    <tr>\n",
       "      <th>3948497</th>\n",
       "      <td>47</td>\n",
       "      <td>4</td>\n",
       "    </tr>\n",
       "  </tbody>\n",
       "</table>\n",
       "</div>"
      ],
      "text/plain": [
       "         kmeans_labels  mat_row\n",
       "3935991            223        0\n",
       "3944004            150        1\n",
       "3945191             82        2\n",
       "3947279            150        3\n",
       "3948497             47        4"
      ]
     },
     "execution_count": 126,
     "metadata": {},
     "output_type": "execute_result"
    }
   ],
   "source": [
    "kml.head()"
   ]
  },
  {
   "cell_type": "code",
   "execution_count": 148,
   "metadata": {
    "collapsed": false
   },
   "outputs": [
    {
     "data": {
      "text/plain": [
       "3976295         49\n",
       "3980613         93\n",
       "3981808        106\n",
       "3990990        278\n",
       "3993790        336\n",
       "3995086        378\n",
       "3997383        446\n",
       "4008160        911\n",
       "4010891       1072\n",
       "4012568       1190\n",
       "4012570       1192\n",
       "4022211       1988\n",
       "4026755       2430\n",
       "4028294       2605\n",
       "4028313       2606\n",
       "4029567       2755\n",
       "4029751       2771\n",
       "4033354       3279\n",
       "4033820       3348\n",
       "4033886       3361\n",
       "4038451       3990\n",
       "4039716       4171\n",
       "4041020       4392\n",
       "4041228       4424\n",
       "4041949       4533\n",
       "4042016       4544\n",
       "4042366       4605\n",
       "4042409       4611\n",
       "4043811       4839\n",
       "4043874       4854\n",
       "            ...   \n",
       "8460449    3353430\n",
       "8460450    3353431\n",
       "8461214    3353994\n",
       "8461259    3354037\n",
       "8466206    3357879\n",
       "H1186      3359965\n",
       "H189       3360467\n",
       "H2041      3360584\n",
       "PP4732     3363588\n",
       "RE30660    3364679\n",
       "RE31507    3365031\n",
       "RE31822    3365212\n",
       "RE31885    3365254\n",
       "RE31936    3365282\n",
       "RE33156    3366125\n",
       "RE33210    3366168\n",
       "RE33899    3366696\n",
       "RE34145    3366888\n",
       "RE34389    3367085\n",
       "RE35144    3367644\n",
       "RE36032    3368340\n",
       "RE36233    3368500\n",
       "RE36369    3368556\n",
       "RE36399    3368583\n",
       "RE38444    3370279\n",
       "RE39092    3370814\n",
       "RE39340    3371010\n",
       "RE40517    3371952\n",
       "RE41859    3373061\n",
       "RE41885    3373082\n",
       "Name: mat_row, dtype: int32"
      ]
     },
     "execution_count": 148,
     "metadata": {},
     "output_type": "execute_result"
    }
   ],
   "source": [
    "r = kml[kml['kmeans_labels']==0]['mat_row']\n",
    "r"
   ]
  },
  {
   "cell_type": "code",
   "execution_count": 149,
   "metadata": {
    "collapsed": false
   },
   "outputs": [],
   "source": [
    "t = tfidf_mat.tolil()"
   ]
  },
  {
   "cell_type": "code",
   "execution_count": null,
   "metadata": {
    "collapsed": true
   },
   "outputs": [],
   "source": [
    "t[r]"
   ]
  },
  {
   "cell_type": "code",
   "execution_count": null,
   "metadata": {
    "collapsed": true
   },
   "outputs": [],
   "source": [
    "# from collections import Counter\n",
    "# import nltk\n",
    "# from nltk.corpus import stopwords\n",
    "# stopwords = stopwords.words('english')  \n",
    "# df['abstract'].apply(lambda x: [item for item in x if item.lower() not in stopwords])\n",
    "# Counter(\" \".join(df.loc[kml[kml['kmeans_labels']==0].index]['abstract']).split()).most_common(5)"
   ]
  }
 ],
 "metadata": {
  "anaconda-cloud": {},
  "kernelspec": {
   "display_name": "Python [conda root]",
   "language": "python",
   "name": "conda-root-py"
  },
  "language_info": {
   "codemirror_mode": {
    "name": "ipython",
    "version": 3
   },
   "file_extension": ".py",
   "mimetype": "text/x-python",
   "name": "python",
   "nbconvert_exporter": "python",
   "pygments_lexer": "ipython3",
   "version": "3.5.2"
  }
 },
 "nbformat": 4,
 "nbformat_minor": 1
}
