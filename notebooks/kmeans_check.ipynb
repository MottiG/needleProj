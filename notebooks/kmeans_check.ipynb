{
 "cells": [
  {
   "cell_type": "code",
   "execution_count": 198,
   "metadata": {
    "collapsed": false
   },
   "outputs": [],
   "source": [
    "import pandas as pd\n",
    "import os\n",
    "from nltk.corpus import stopwords\n",
    "from sklearn.feature_extraction.text import TfidfVectorizer\n",
    "from scipy.sparse import hstack\n",
    "\n",
    "\n",
    "'''\n",
    "create tf-ifd feature of for a given column of the patent_table_clean dataframe\n",
    "'''\n",
    "\n",
    "project_dir = os.path.abspath(os.path.join( '__file__' , '..', '..'))\n",
    "project_dir\n",
    "input_dir = os.path.join(project_dir, 'data', 'processed', 'sample')\n",
    "df = pd.read_pickle(os.path.join(input_dir, 'patent_table_clean.pickle'))\n",
    "dendogram_df = pd.DataFrame(index=df.index.copy())\n",
    "\n",
    "cols = ['title', 'abstract'] \n",
    "\n",
    "df = df.fillna('')  # ignore nans\n",
    "features_dict = {}\n",
    "vectorizer = TfidfVectorizer(max_df=1.0, min_df=1, stop_words='english')\n",
    "for col in cols:\n",
    "    features_dict[col] = vectorizer.fit_transform(df[col])  # calc tf-idf\n",
    "\n",
    "features_sparse_matrix = hstack(list(features_dict.values()))\n"
   ]
  },
  {
   "cell_type": "code",
   "execution_count": 199,
   "metadata": {
    "collapsed": false,
    "scrolled": false
   },
   "outputs": [
    {
     "name": "stdout",
     "output_type": "stream",
     "text": [
      "K-means...\n",
      "K-means for 100 clusters\n",
      "K-means for 50 clusters\n",
      "K-means for 25 clusters\n",
      "K-means for 7 clusters\n",
      "done.\n"
     ]
    }
   ],
   "source": [
    "LEVELS = [100,50,25,7]\n",
    "dendogram_df = pd.concat([dendogram_df, pd.DataFrame(columns=LEVELS)], copy=False)\n",
    "\n",
    "\n",
    "print(\"K-means...\")\n",
    "last_centroids = None\n",
    "for i in range(len(LEVELS)):\n",
    "    k = LEVELS[i]\n",
    "    print(\"K-means for \" + str(k) + \" clusters\")\n",
    "    t0 = time.time()\n",
    "    km = KMeans(n_clusters=k)\n",
    "    if i == 0:\n",
    "        km.fit(features_sparse_matrix)\n",
    "        dendogram_df.loc[:, k] = km.labels_\n",
    "    else:\n",
    "        km.fit(last_centroids)\n",
    "        for j in range(len(last_centroids)):\n",
    "            dendogram_df.ix[dendogram_df[LEVELS[i-1]] == j, k] = km.labels_[j]\n",
    "    last_centroids = km.cluster_centers_\n",
    "    t_batch = time.time() - t0\n",
    "\n",
    "# nkm = KMeans(n_clusters=7)\n",
    "# nkm.fit(last_centroids)\n",
    "    \n",
    "print(\"done.\")"
   ]
  },
  {
   "cell_type": "code",
   "execution_count": 206,
   "metadata": {
    "collapsed": false
   },
   "outputs": [
    {
     "data": {
      "text/plain": [
       "array([2, 0, 6, 4, 5, 1, 3], dtype=object)"
      ]
     },
     "execution_count": 206,
     "metadata": {},
     "output_type": "execute_result"
    }
   ],
   "source": [
    "g = dendogram_df.loc[:,7].unique()\n",
    "g"
   ]
  },
  {
   "cell_type": "code",
   "execution_count": null,
   "metadata": {
    "collapsed": true
   },
   "outputs": [],
   "source": []
  }
 ],
 "metadata": {
  "anaconda-cloud": {},
  "kernelspec": {
   "display_name": "Python [conda root]",
   "language": "python",
   "name": "conda-root-py"
  },
  "language_info": {
   "codemirror_mode": {
    "name": "ipython",
    "version": 3
   },
   "file_extension": ".py",
   "mimetype": "text/x-python",
   "name": "python",
   "nbconvert_exporter": "python",
   "pygments_lexer": "ipython3",
   "version": "3.5.2"
  }
 },
 "nbformat": 4,
 "nbformat_minor": 1
}
