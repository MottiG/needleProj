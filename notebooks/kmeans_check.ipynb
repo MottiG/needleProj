{
 "cells": [
  {
   "cell_type": "code",
   "execution_count": 7,
   "metadata": {
    "collapsed": false
   },
   "outputs": [],
   "source": [
    "import pandas as pd\n",
    "import os\n",
    "from nltk.corpus import stopwords\n",
    "from sklearn.feature_extraction.text import TfidfVectorizer\n",
    "\n",
    "\n",
    "'''\n",
    "create tf-ifd feature of for a given column of the patent_table_clean dataframe\n",
    "'''\n",
    "\n",
    "project_dir = os.path.abspath(os.path.join( '__file__' , '..'))\n",
    "project_dir\n",
    "input_dir = os.path.join(project_dir, 'data', 'processed', 'sample')\n",
    "df = pd.read_pickle(os.path.join(input_dir, 'patent_table_clean.pickle'))"
   ]
  },
  {
   "cell_type": "code",
   "execution_count": 8,
   "metadata": {
    "collapsed": false
   },
   "outputs": [
    {
     "data": {
      "text/html": [
       "<div>\n",
       "<table border=\"1\" class=\"dataframe\">\n",
       "  <thead>\n",
       "    <tr style=\"text-align: right;\">\n",
       "      <th></th>\n",
       "      <th>title</th>\n",
       "      <th>gdate</th>\n",
       "      <th>class, mainclass</th>\n",
       "      <th>abstract</th>\n",
       "      <th>inventors</th>\n",
       "      <th>citations</th>\n",
       "    </tr>\n",
       "  </thead>\n",
       "  <tbody>\n",
       "    <tr>\n",
       "      <th>6836899</th>\n",
       "      <td>Device for detachably holding an absorbent nap...</td>\n",
       "      <td>2005-01-04</td>\n",
       "      <td>((252, 1), (2336, 0), (2323, 0), (249, 0), (24...</td>\n",
       "      <td>A napkin holder formed of two pairs of magneti...</td>\n",
       "      <td>(Samuel G. Glasmire,)</td>\n",
       "      <td>(4021891, 4255837, 4258493, 4447238, 4812064, ...</td>\n",
       "    </tr>\n",
       "    <tr>\n",
       "      <th>6836900</th>\n",
       "      <td>Bib</td>\n",
       "      <td>2005-01-04</td>\n",
       "      <td>((252, 1), (2491, 0))</td>\n",
       "      <td>The bib of the present invention has a collar ...</td>\n",
       "      <td>(James F. Fus, Sr.,)</td>\n",
       "      <td>(4660224, 5621916, 5956763, 6182290, 6317890, ...</td>\n",
       "    </tr>\n",
       "    <tr>\n",
       "      <th>6836901</th>\n",
       "      <td>Multi-use strips for wearable articles</td>\n",
       "      <td>2005-01-04</td>\n",
       "      <td>((260, 1), (254, 0))</td>\n",
       "      <td>Multi-use strips can be applied to a variety o...</td>\n",
       "      <td>(Joseph B. Hippensteel,)</td>\n",
       "      <td>(4097943, 4464797, 4545080, 4653119, 4678465, ...</td>\n",
       "    </tr>\n",
       "    <tr>\n",
       "      <th>6836902</th>\n",
       "      <td>Infant walking trainer and carrier garment</td>\n",
       "      <td>2005-01-04</td>\n",
       "      <td>((269, 1), (280, 0), (224160, 0))</td>\n",
       "      <td>Disclosed is a device for producing a safe and...</td>\n",
       "      <td>(Alejandra G. Marquez, Maria G. Pulido)</td>\n",
       "      <td>(4037764, 4117840, 4139131, 4149687, 4234229, ...</td>\n",
       "    </tr>\n",
       "    <tr>\n",
       "      <th>6836903</th>\n",
       "      <td>Braided garment and method of making</td>\n",
       "      <td>2005-01-04</td>\n",
       "      <td>((269, 1),)</td>\n",
       "      <td>A uniquely woven braid is fashioned on the out...</td>\n",
       "      <td>(Mattea H. Goldstein,)</td>\n",
       "      <td>(4748078, 5001782, 5605060)</td>\n",
       "    </tr>\n",
       "  </tbody>\n",
       "</table>\n",
       "</div>"
      ],
      "text/plain": [
       "                                                     title       gdate  \\\n",
       "6836899  Device for detachably holding an absorbent nap...  2005-01-04   \n",
       "6836900                                                Bib  2005-01-04   \n",
       "6836901             Multi-use strips for wearable articles  2005-01-04   \n",
       "6836902         Infant walking trainer and carrier garment  2005-01-04   \n",
       "6836903               Braided garment and method of making  2005-01-04   \n",
       "\n",
       "                                          class, mainclass  \\\n",
       "6836899  ((252, 1), (2336, 0), (2323, 0), (249, 0), (24...   \n",
       "6836900                              ((252, 1), (2491, 0))   \n",
       "6836901                               ((260, 1), (254, 0))   \n",
       "6836902                  ((269, 1), (280, 0), (224160, 0))   \n",
       "6836903                                        ((269, 1),)   \n",
       "\n",
       "                                                  abstract  \\\n",
       "6836899  A napkin holder formed of two pairs of magneti...   \n",
       "6836900  The bib of the present invention has a collar ...   \n",
       "6836901  Multi-use strips can be applied to a variety o...   \n",
       "6836902  Disclosed is a device for producing a safe and...   \n",
       "6836903  A uniquely woven braid is fashioned on the out...   \n",
       "\n",
       "                                       inventors  \\\n",
       "6836899                    (Samuel G. Glasmire,)   \n",
       "6836900                     (James F. Fus, Sr.,)   \n",
       "6836901                 (Joseph B. Hippensteel,)   \n",
       "6836902  (Alejandra G. Marquez, Maria G. Pulido)   \n",
       "6836903                   (Mattea H. Goldstein,)   \n",
       "\n",
       "                                                 citations  \n",
       "6836899  (4021891, 4255837, 4258493, 4447238, 4812064, ...  \n",
       "6836900  (4660224, 5621916, 5956763, 6182290, 6317890, ...  \n",
       "6836901  (4097943, 4464797, 4545080, 4653119, 4678465, ...  \n",
       "6836902  (4037764, 4117840, 4139131, 4149687, 4234229, ...  \n",
       "6836903                        (4748078, 5001782, 5605060)  "
      ]
     },
     "execution_count": 8,
     "metadata": {},
     "output_type": "execute_result"
    }
   ],
   "source": [
    "df.head()"
   ]
  },
  {
   "cell_type": "code",
   "execution_count": 11,
   "metadata": {
    "collapsed": false
   },
   "outputs": [
    {
     "data": {
      "text/plain": [
       "{'abstract': <276x3544 sparse matrix of type '<class 'numpy.float64'>'\n",
       " \twith 10373 stored elements in Compressed Sparse Row format>,\n",
       " 'title': <276x862 sparse matrix of type '<class 'numpy.float64'>'\n",
       " \twith 1384 stored elements in Compressed Sparse Row format>}"
      ]
     },
     "execution_count": 11,
     "metadata": {},
     "output_type": "execute_result"
    }
   ],
   "source": [
    "cols = ['title', 'abstract']\n",
    "df = df.fillna('')  # ignore nans\n",
    "features_df = {}\n",
    "vectorizer = TfidfVectorizer(max_df=1.0, min_df=1, stop_words='english')\n",
    "for col in cols:\n",
    "    features_df[col] = vectorizer.fit_transform(df[col])  # calc tf-idf\n",
    "features_df"
   ]
  },
  {
   "cell_type": "code",
   "execution_count": 18,
   "metadata": {
    "collapsed": false
   },
   "outputs": [
    {
     "data": {
      "text/plain": [
       "<276x4406 sparse matrix of type '<class 'numpy.float64'>'\n",
       "\twith 11757 stored elements in COOrdinate format>"
      ]
     },
     "execution_count": 18,
     "metadata": {},
     "output_type": "execute_result"
    }
   ],
   "source": [
    "from scipy.sparse import hstack\n",
    "s = hstack(list(features_df.values()))\n",
    "s"
   ]
  },
  {
   "cell_type": "code",
   "execution_count": 36,
   "metadata": {
    "collapsed": false
   },
   "outputs": [
    {
     "data": {
      "text/plain": [
       "(276, 3)"
      ]
     },
     "execution_count": 36,
     "metadata": {},
     "output_type": "execute_result"
    }
   ],
   "source": [
    "from sklearn.cluster import KMeans\n",
    "km = KMeans(n_clusters=3)\n",
    "a = km.fit_transform(s)\n",
    "a.shape"
   ]
  },
  {
   "cell_type": "code",
   "execution_count": 23,
   "metadata": {
    "collapsed": false
   },
   "outputs": [
    {
     "data": {
      "text/plain": [
       "array([2, 0, 0, 0, 2, 1, 0, 0, 2, 2, 1, 0, 0, 0, 0, 2, 0, 0, 2, 2, 0, 0, 2,\n",
       "       2, 0, 0, 1, 2, 1, 2, 0, 2, 0, 0, 2, 1, 2, 2, 2, 2, 1, 0, 2, 2, 2, 2,\n",
       "       2, 0, 2, 2, 2, 2, 1, 2, 2, 2, 2, 2, 2, 2, 2, 0, 2, 0, 0, 0, 0, 2, 2,\n",
       "       2, 0, 1, 2, 0, 1, 2, 0, 0, 2, 1, 1, 2, 0, 0, 2, 2, 0, 2, 2, 0, 0, 2,\n",
       "       0, 2, 1, 2, 1, 1, 1, 1, 1, 0, 0, 0, 0, 0, 0, 0, 1, 0, 0, 2, 2, 0, 2,\n",
       "       0, 2, 0, 2, 2, 2, 2, 1, 2, 0, 2, 2, 2, 0, 1, 1, 1, 0, 2, 1, 1, 1, 1,\n",
       "       1, 1, 0, 1, 1, 1, 1, 1, 1, 1, 1, 1, 1, 1, 2, 0, 0, 1, 1, 1, 2, 0, 1,\n",
       "       1, 2, 1, 2, 1, 1, 2, 2, 2, 2, 2, 2, 2, 2, 0, 0, 0, 0, 1, 0, 2, 2, 0,\n",
       "       0, 2, 0, 2, 2, 2, 2, 2, 0, 2, 0, 2, 1, 1, 2, 0, 1, 0, 0, 1, 2, 2, 2,\n",
       "       0, 1, 0, 1, 2, 2, 0, 1, 1, 1, 2, 2, 1, 2, 2, 2, 2, 2, 0, 0, 0, 0, 0,\n",
       "       0, 0, 0, 2, 0, 1, 1, 1, 1, 1, 1, 1, 0, 1, 0, 1, 1, 0, 1, 0, 2, 2, 0,\n",
       "       0, 2, 2, 2, 1, 1, 1, 2, 1, 1, 0, 0, 0, 0, 1, 1, 0, 2, 1, 2, 0, 0, 0])"
      ]
     },
     "execution_count": 23,
     "metadata": {},
     "output_type": "execute_result"
    }
   ],
   "source": [
    "km.labels_"
   ]
  },
  {
   "cell_type": "code",
   "execution_count": 27,
   "metadata": {
    "collapsed": false
   },
   "outputs": [
    {
     "data": {
      "text/plain": [
       "numpy.ndarray"
      ]
     },
     "execution_count": 27,
     "metadata": {},
     "output_type": "execute_result"
    }
   ],
   "source": []
  },
  {
   "cell_type": "code",
   "execution_count": null,
   "metadata": {
    "collapsed": true
   },
   "outputs": [],
   "source": []
  }
 ],
 "metadata": {
  "anaconda-cloud": {},
  "kernelspec": {
   "display_name": "Python [conda root]",
   "language": "python",
   "name": "conda-root-py"
  },
  "language_info": {
   "codemirror_mode": {
    "name": "ipython",
    "version": 3
   },
   "file_extension": ".py",
   "mimetype": "text/x-python",
   "name": "python",
   "nbconvert_exporter": "python",
   "pygments_lexer": "ipython3",
   "version": "3.5.2"
  }
 },
 "nbformat": 4,
 "nbformat_minor": 1
}
